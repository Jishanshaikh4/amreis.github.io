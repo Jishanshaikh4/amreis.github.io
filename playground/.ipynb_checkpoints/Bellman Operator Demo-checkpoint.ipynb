{
 "cells": [
  {
   "cell_type": "markdown",
   "metadata": {},
   "source": [
    "# A simple demonstration of the Bellman Operator"
   ]
  },
  {
   "cell_type": "markdown",
   "metadata": {},
   "source": [
    "What we're going to do is build a very simple environment composed of 3 states and 2 actions, and some rewards for these actions. We'll then calculate the dynamics matrix for a given policy $\\pi$ from the $\\mathcal{P}_{a}^{s,s'}$ matrices.\n",
    "\n",
    "This will be used to implement the Bellman Operator (or Bellman Backup Operator, I need to check the naming here) and will show that repeatedly applying the operator yields the true state-value (or, extension, action-value) function for a policy $\\pi$. Let's do this!"
   ]
  },
  {
   "cell_type": "code",
   "execution_count": 1,
   "metadata": {
    "collapsed": true
   },
   "outputs": [],
   "source": [
    "import numpy as np\n",
    "import matplotlib.pyplot as plt\n",
    "\n",
    "%load_ext line_profiler"
   ]
  },
  {
   "cell_type": "code",
   "execution_count": 2,
   "metadata": {
    "collapsed": true
   },
   "outputs": [],
   "source": [
    "%matplotlib inline\n",
    "n_states = 3\n",
    "n_actions = 2\n",
    "transitions = np.zeros((n_actions, n_states, n_states)) # just to show dimensionality\n",
    "\n",
    "# an arbitrary policy\n",
    "policy = np.array(\n",
    "    [[0.5, 0.5],\n",
    "     [0.4, 0.6],\n",
    "     [0.8, 0.2]]\n",
    ") # .shape = (n_states, n_actions)"
   ]
  },
  {
   "cell_type": "markdown",
   "metadata": {},
   "source": [
    "## The Bellman Equation for the State-Value Function\n",
    "\n",
    "The Bellman Equation for state-value functions reads (in this case):\n",
    "\n",
    "$$\n",
    "V_\\pi(s) = R(s) + \\gamma \\sum_a \\sum_{s'} \\mathcal{P}_{a}^{s,s'} V_\\pi(s')\n",
    "$$\n",
    "\n",
    "And the Bellman Operator $T$ is:\n",
    "\n",
    "$$\n",
    "TV(s) = R(s) + \\gamma \\sum_a \\sum_{s'} \\mathcal{P}_{a}^{s, s'} V(s')\n",
    "$$\n",
    "\n",
    "You should interpret $TV$ as a _new function_. What this does is replace the previous value of V(s) with a one-step lookahead through its neighbors and the chance of reaching them, plus the immediate reward.\n",
    "\n",
    "To calculate the true value function for a policy $\\pi$, we'll repeatedly apply the Bellman Operator to an initial estimate of this value function. In other words, we'll do:\n",
    "$$ \\hat{V}_\\pi \\gets T \\hat{V}_\\pi$$\n",
    "over and over again. This will converge to the true value function of our policy in the given MDP. This happens because $V_\\pi$ is the **fixed point** of the Bellman Operator."
   ]
  },
  {
   "cell_type": "code",
   "execution_count": 3,
   "metadata": {
    "collapsed": true
   },
   "outputs": [],
   "source": [
    "# Let's introduce the environment's data:\n",
    "\n",
    "gamma = 0.9 # discount factor\n",
    "\n",
    "# simplification: we actually might want the reward to depend\n",
    "# on the action as well. Think of this as an averaged reward over actions, per state.\n",
    "rewards_per_state = np.array([1.0, -0.5, 2.0])\n",
    "\n",
    "\n",
    "# The dynamics have some noise: not always will our command take us the direction\n",
    "# we want, but it will always move us at most one step to the left or to the right.\n",
    "transitions[0] = np.array([\n",
    "    [0.9, 0.1, 0.0],\n",
    "    [0.8, 0.1, 0.1],\n",
    "    [0.0, 0.9, 0.1]\n",
    "])\n",
    "transitions[1] = np.array([\n",
    "    [0.1, 0.9, 0.0],\n",
    "    [0.1, 0.1, 0.8],\n",
    "    [0.0, 0.1, 0.9]\n",
    "])"
   ]
  },
  {
   "cell_type": "code",
   "execution_count": 4,
   "metadata": {
    "collapsed": true
   },
   "outputs": [],
   "source": [
    "assert policy.shape == (n_states, n_actions)\n",
    "assert transitions.shape == (n_actions, n_states, n_states)\n",
    "assert rewards_per_state.shape == (n_states,)"
   ]
  },
  {
   "cell_type": "code",
   "execution_count": 5,
   "metadata": {
    "collapsed": true
   },
   "outputs": [],
   "source": [
    "# A helper to apply a function n times over itself\n",
    "def apply_n_times(f, *args, n=1, accum=None):\n",
    "    if accum is not None:\n",
    "        accum.append(f(*args))\n",
    "    if n == 1:\n",
    "        return f(*args), accum\n",
    "    else:\n",
    "        return apply_n_times(f, f(*args), n=n-1, accum=accum)"
   ]
  },
  {
   "cell_type": "code",
   "execution_count": 8,
   "metadata": {
    "collapsed": true
   },
   "outputs": [],
   "source": [
    "expanded_policy = np.zeros((n_states, n_states, n_actions))\n",
    "expanded_policy[np.arange(n_states), np.arange(n_states), :] = policy\n",
    "\n",
    "transitions_under_policy = np.tensordot(transitions, expanded_policy, axes=([0, 1], [2, 1])).T\n",
    "\n",
    "# Sanity check\n",
    "assert np.all(np.isclose(np.sum(transitions_under_policy, axis=1), 1.0))\n",
    "\n",
    "# The value function guess is initially zero.\n",
    "def bellman_operator(value_function):\n",
    "    # translation of the equation described above\n",
    "    return rewards_per_state + gamma * transitions_under_policy @ value_function"
   ]
  },
  {
   "cell_type": "code",
   "execution_count": 9,
   "metadata": {
    "collapsed": true
   },
   "outputs": [],
   "source": [
    "value_f = np.zeros(n_states)\n",
    "value_f, hist = apply_n_times(bellman_operator, value_f, n=250, accum=[])"
   ]
  },
  {
   "cell_type": "code",
   "execution_count": 10,
   "metadata": {},
   "outputs": [
    {
     "data": {
      "text/plain": [
       "array([ 6.74222258,  6.01827204,  7.8435629 ])"
      ]
     },
     "execution_count": 10,
     "metadata": {},
     "output_type": "execute_result"
    }
   ],
   "source": [
    "value_f"
   ]
  },
  {
   "cell_type": "code",
   "execution_count": 11,
   "metadata": {},
   "outputs": [
    {
     "data": {
      "image/png": "[encoded data removed]",
      "text/plain": [
       "<matplotlib.figure.Figure at 0x10cc6def0>"
      ]
     },
     "metadata": {},
     "output_type": "display_data"
    }
   ],
   "source": [
    "# Let's check the convergence.\n",
    "# We'll measure the L2 distance between each consecutive pair of value functions\n",
    "dists = np.array([np.linalg.norm(v1 - v2) for (v1, v2) in zip(hist, hist[1:])])\n",
    "plt.plot(dists)\n",
    "# We also mark the points where the L2 distance between value functions\n",
    "# is accurate to the i^th digit after the comma.\n",
    "plt.vlines([np.where(dists <= 10**(-x))[0][0] for x in range(11)], -0.1, 1.3)\n",
    "plt.show()\n",
    "\n",
    "final_value_func = np.copy(value_f)"
   ]
  },
  {
   "cell_type": "markdown",
   "metadata": {},
   "source": [
    "## Calculating the True Value Function\n",
    "\n",
    "We have, in theory, approximated the true value function by repeatedly applying the Bellman operator. But how do we know it's actually correct?\n",
    "\n",
    "Well, it turns out that we can express the Bellman equations in matrix form and analytically find their solution:"
   ]
  },
  {
   "cell_type": "markdown",
   "metadata": {},
   "source": [
    "\\begin{align}\n",
    "V_\\pi &= [V_\\pi(s_1) \\dots V_\\pi(s_n)]^T \\\\\n",
    "R_\\pi &= [R(s_1) \\dots R(s_2)]^T \\\\\n",
    "[P_\\pi]_{ij} &= \\sum_a \\pi(a | s_i) p(s_j|s_i, a) \\\\\\\\\n",
    "V_\\pi &= TV_\\pi\\\\\n",
    "V_\\pi &= R_\\pi + \\gamma P_\\pi V_\\pi\\\\\n",
    "V_\\pi - \\gamma P_\\pi V_\\pi &= R_\\pi\\\\\n",
    "(I - \\gamma P_\\pi) V_\\pi &= R_\\pi\\\\\n",
    "V_\\pi &= (I - \\gamma P_\\pi)^{-1} R_\\pi\n",
    "\\end{align}"
   ]
  },
  {
   "cell_type": "code",
   "execution_count": 12,
   "metadata": {},
   "outputs": [
    {
     "name": "stdout",
     "output_type": "stream",
     "text": [
      "[ 6.74222258  6.01827204  7.8435629 ]\n",
      "[ 6.74222258  6.01827204  7.8435629 ]\n"
     ]
    }
   ],
   "source": [
    "linalg_value_f = np.linalg.solve(np.eye(n_states) - gamma * transitions_under_policy, rewards_per_state)\n",
    "print(linalg_value_f)\n",
    "print(value_f)"
   ]
  },
  {
   "cell_type": "code",
   "execution_count": 13,
   "metadata": {
    "scrolled": false
   },
   "outputs": [
    {
     "data": {
      "image/png": "[encoded data removed]",
      "text/plain": [
       "<matplotlib.figure.Figure at 0x10ff0d978>"
      ]
     },
     "metadata": {},
     "output_type": "display_data"
    }
   ],
   "source": [
    "dists2 = np.array([np.linalg.norm(v - linalg_value_f) for v in hist])\n",
    "f = plt.figure(figsize=(20,11))\n",
    "plt.plot(dists, c = 'r', label='Relative to previous approx')\n",
    "plt.vlines([np.where(dists <= 10**(-x))[0][0] for x in range(11)], -0.1, 3.3, colors=(1,0,0,.8), linestyles='--')\n",
    "plt.plot(dists2, c = 'b', label='Relative to true ValueFunction')\n",
    "plt.vlines([np.where(dists2 <= 10**(-x))[0][0] for x in range(11)], -0.1, 10.3, colors=(0,0,1,.5), linestyles='-')\n",
    "plt.legend(title='Error', loc='best', fontsize=22)\n",
    "plt.title('Convergence of Value Function Estimate')\n",
    "plt.show()\n"
   ]
  },
  {
   "cell_type": "code",
   "execution_count": 14,
   "metadata": {
    "collapsed": true
   },
   "outputs": [],
   "source": [
    "x = [(dists2[i], i) for i in [np.where(dists2 <= 10 ** (-x))[0][0] for x in range(-1,11)]]"
   ]
  },
  {
   "cell_type": "code",
   "execution_count": 15,
   "metadata": {},
   "outputs": [
    {
     "name": "stdout",
     "output_type": "stream",
     "text": [
      "0.0978235981813\n",
      "-0.00780098983939\n",
      "-0.113161506028\n",
      "-0.229509326735\n",
      "-0.319093422995\n",
      "-0.424453938653\n",
      "-0.529814454314\n",
      "-0.635174969913\n",
      "-0.740535484889\n",
      "-0.845896011996\n",
      "-0.997135943634\n"
     ]
    },
    {
     "data": {
      "image/png": "[encoded data removed]",
      "text/plain": [
       "<matplotlib.figure.Figure at 0x10cd53fd0>"
      ]
     },
     "metadata": {},
     "output_type": "display_data"
    }
   ],
   "source": [
    "l = []\n",
    "for i in range(1, len(x)):\n",
    "    x1_val, x1_ix = x[i-1]\n",
    "    x2_val, x2_ix = x[i]\n",
    "    print(np.log(abs(x1_val - x2_val)) / (x2_ix - x1_ix))\n",
    "    l.append(np.log(abs(x1_val - x2_val)) / (x2_ix - x1_ix))\n",
    "plt.plot(l)\n",
    "plt.show()"
   ]
  },
  {
   "cell_type": "code",
   "execution_count": null,
   "metadata": {
    "collapsed": true
   },
   "outputs": [],
   "source": [
    "%%timeit transitions_under_policy = np.zeros((n_states, n_states))\n",
    "for action in range(n_actions): # few actions -> loop actually pays off\n",
    "    transitions_under_policy += policy[:, action][:,np.newaxis] * transitions[action]\n"
   ]
  },
  {
   "cell_type": "code",
   "execution_count": null,
   "metadata": {
    "collapsed": true
   },
   "outputs": [],
   "source": [
    "%%timeit\n",
    "transitions_under_policy = np.tensordot(transitions, policy, axes=(0, 1))[np.arange(n_states), :, np.arange(n_states)]"
   ]
  },
  {
   "cell_type": "code",
   "execution_count": null,
   "metadata": {
    "collapsed": true
   },
   "outputs": [],
   "source": [
    "%%timeit expanded_policy = np.zeros((n_states, n_states, n_actions)) ; expanded_policy[np.arange(n_states), np.arange(n_states), :] = policy\n",
    "# Easier way!\n",
    "\n",
    "transitions_under_policy = np.tensordot(transitions, expanded_policy, axes=([0, 1], [2, 1])).T\n",
    "\n"
   ]
  },
  {
   "cell_type": "code",
   "execution_count": 51,
   "metadata": {},
   "outputs": [
    {
     "name": "stdout",
     "output_type": "stream",
     "text": [
      "[ 0.30860404  0.30860404  0.30860404]\n"
     ]
    }
   ],
   "source": [
    "stationary_dist = np.linalg.matrix_power(transitions_under_policy, 100)\n",
    "print(stationary_dist)"
   ]
  },
  {
   "cell_type": "code",
   "execution_count": 50,
   "metadata": {},
   "outputs": [
    {
     "name": "stdout",
     "output_type": "stream",
     "text": [
      "6.76251097454\n",
      "6.74222258128\n"
     ]
    }
   ],
   "source": [
    "print(((1 / (1 - gamma)) * rewards_per_state * stationary_dist).sum())\n",
    "print(value_f[0])"
   ]
  },
  {
   "cell_type": "code",
   "execution_count": null,
   "metadata": {
    "collapsed": true
   },
   "outputs": [],
   "source": []
  }
 ],
 "metadata": {
  "kernelspec": {
   "display_name": "Python 3",
   "language": "python",
   "name": "python3"
  },
  "language_info": {
   "codemirror_mode": {
    "name": "ipython",
    "version": 3
   },
   "file_extension": ".py",
   "mimetype": "text/x-python",
   "name": "python",
   "nbconvert_exporter": "python",
   "pygments_lexer": "ipython3",
   "version": "3.6.2"
  }
 },
 "nbformat": 4,
 "nbformat_minor": 2
}
