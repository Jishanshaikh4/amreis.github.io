{
 "cells": [
  {
   "cell_type": "markdown",
   "metadata": {},
   "source": [
    "# A simple demonstration of the Bellman Operator"
   ]
  },
  {
   "cell_type": "markdown",
   "metadata": {},
   "source": [
    "What we're going to do is build a very simple environment composed of 3 states and 2 actions, and some rewards for these actions. We'll then calculate the dynamics matrix for a given policy $\\pi$ from the $\\mathcal{P}_{a}^{s,s'}$ matrices.\n",
    "\n",
    "This will be used to implement the Bellman Operator (or Bellman Backup Operator, I need to check the naming here) and will show that repeatedly applying the operator yields the true state-value (or, extension, action-value) function for a policy $\\pi$. Let's do this!"
   ]
  },
  {
   "cell_type": "code",
   "execution_count": 78,
   "metadata": {},
   "outputs": [],
   "source": [
    "import numpy as np\n",
    "import matplotlib.pyplot as plt\n",
    "%matplotlib inline\n",
    "n_states = 3\n",
    "n_actions = 2\n",
    "transitions = np.zeros((n_actions, n_states, n_states)) # just to show dimensionality\n",
    "\n",
    "# an arbitrary policy\n",
    "policy = np.array(\n",
    "    [[0.5, 0.5],\n",
    "     [0.4, 0.6],\n",
    "     [0.8, 0.2]]\n",
    ") # .shape = (n_states, n_actions)"
   ]
  },
  {
   "cell_type": "markdown",
   "metadata": {},
   "source": [
    "## The Bellman Equation for the State-Value Function\n",
    "\n",
    "The Bellman Equation for state-value functions reads (in this case):\n",
    "\n",
    "$$\n",
    "V_\\pi(s) = R(s) + \\gamma \\sum_a \\sum_{s'} \\mathcal{P}_{a}^{s,s'} V_\\pi(s')\n",
    "$$\n",
    "\n",
    "And the Bellman Operator $T$ is:\n",
    "\n",
    "$$\n",
    "TV(s) = R(s) + \\gamma \\sum_a \\sum_{s'} \\mathcal{P}_{a}^{s, s'} V(s')\n",
    "$$\n",
    "\n",
    "You should interpret $TV$ as a _new function_. What this does is replace the previous value of V(s) with a one-step lookahead through its neighbors and the chance of reaching them, plus the immediate reward.\n",
    "\n",
    "To calculate the true value function for a policy $\\pi$, we'll repeatedly apply the Bellman Operator to an initial estimate of this value function. In other words, we'll do:\n",
    "$$ \\hat{V}_\\pi \\gets T \\hat{V}_\\pi$$\n",
    "over and over again. This will converge to the true value function of our policy in the given MDP. This happens because $V_\\pi$ is the **fixed point** of the Bellman Operator."
   ]
  },
  {
   "cell_type": "code",
   "execution_count": 79,
   "metadata": {},
   "outputs": [],
   "source": [
    "# Let's introduce the environment's data:\n",
    "\n",
    "gamma = 0.9 # discount factor\n",
    "\n",
    "# simplification: we actually might want the reward to depend\n",
    "# on the action as well. Think of this as an averaged reward over actions, per state.\n",
    "rewards_per_state = np.array([1.0, -0.5, 2.0])\n",
    "\n",
    "\n",
    "# The dynamics have some noise: not always will our command take us the direction\n",
    "# we want, but it will always move us at most one step to the left or to the right.\n",
    "transitions[0] = np.array([\n",
    "    [0.9, 0.1, 0.0],\n",
    "    [0.8, 0.1, 0.1],\n",
    "    [0.0, 0.9, 0.1]\n",
    "])\n",
    "transitions[1] = np.array([\n",
    "    [0.1, 0.9, 0.0],\n",
    "    [0.1, 0.1, 0.8],\n",
    "    [0.0, 0.1, 0.9]\n",
    "])"
   ]
  },
  {
   "cell_type": "code",
   "execution_count": 80,
   "metadata": {},
   "outputs": [],
   "source": [
    "assert policy.shape == (n_states, n_actions)\n",
    "assert transitions.shape == (n_actions, n_states, n_states)\n",
    "assert rewards_per_state.shape == (n_states,)"
   ]
  },
  {
   "cell_type": "code",
   "execution_count": 81,
   "metadata": {},
   "outputs": [],
   "source": [
    "# A helper to apply a function n times over itself\n",
    "def apply_n_times(f, *args, n=1, accum=None):\n",
    "    if accum is not None:\n",
    "        accum.append(f(*args))\n",
    "    if n == 1:\n",
    "        return f(*args), accum\n",
    "    else:\n",
    "        return apply_n_times(f, f(*args), n=n-1, accum=accum)"
   ]
  },
  {
   "cell_type": "code",
   "execution_count": 82,
   "metadata": {},
   "outputs": [
    {
     "data": {
      "text/plain": [
       "(5, None)"
      ]
     },
     "execution_count": 82,
     "metadata": {},
     "output_type": "execute_result"
    }
   ],
   "source": [
    "def incr(x): return x + 1\n",
    "# A small test\n",
    "apply_n_times(incr, 0, n=5)"
   ]
  },
  {
   "cell_type": "code",
   "execution_count": 83,
   "metadata": {},
   "outputs": [],
   "source": [
    "# The policy allows us to simplify the transition tensor by\n",
    "# averaging its components w.r.t. the probability of each action in each\n",
    "# state.\n",
    "transitions_under_policy = np.zeros((n_states, n_states))\n",
    "for action in range(n_actions):\n",
    "    transitions_under_policy += policy[:, action][:,np.newaxis] * transitions[action]\n",
    "# Or, in less space but maybe less understandably:\n",
    "transitions_under_policy = np.tensordot(transitions, policy, axes=(0, 1))[np.arange(n_states), :, np.arange(n_states)]\n",
    "# Should also test if this /\\ is faster.\n",
    "\n",
    "# Sanity check\n",
    "assert np.all(np.isclose(np.sum(transitions_under_policy, axis=1), 1.0))\n",
    "\n",
    "# The value function guess is initially zero.\n",
    "def bellman_operator(value_function):\n",
    "    # translation of the equation described above\n",
    "    return rewards_per_state + gamma * transitions_under_policy @ value_function"
   ]
  },
  {
   "cell_type": "code",
   "execution_count": 88,
   "metadata": {
    "collapsed": true
   },
   "outputs": [],
   "source": [
    "value_f = np.zeros(n_states)\n",
    "value_f, hist = apply_n_times(bellman_operator, value_f, n=250, accum=[])"
   ]
  },
  {
   "cell_type": "code",
   "execution_count": 89,
   "metadata": {},
   "outputs": [
    {
     "data": {
      "text/plain": [
       "array([ 6.74222258,  6.01827204,  7.8435629 ])"
      ]
     },
     "execution_count": 89,
     "metadata": {},
     "output_type": "execute_result"
    }
   ],
   "source": [
    "value_f"
   ]
  },
  {
   "cell_type": "code",
   "execution_count": 90,
   "metadata": {},
   "outputs": [
    {
     "data": {
      "text/plain": [
       "[array([ 1. , -0.5,  2. ]),\n",
       " array([ 1.225,  0.733,  2.135]),\n",
       " array([ 1.8811  ,  0.9841  ,  2.987768]),\n",
       " array([ 2.28934   ,  1.63018062,  3.35454831]),\n",
       " array([ 2.76378428,  1.99959915,  3.8706646 ]),\n",
       " array([ 3.14352254,  2.43664918,  4.23746855]),\n",
       " array([ 3.51107728,  2.77751842,  4.61437599]),\n",
       " array([ 3.82986806,  3.11029305,  4.92959125]),\n",
       " array([ 4.1230725 ,  3.39678996,  5.22497952]),\n",
       " array([ 4.38393811,  3.66109231,  5.48490732]),\n",
       " array([ 4.62026369,  3.89574176,  5.72175579]),\n",
       " array([ 4.83220245,  4.10852865,  5.93345487]),\n",
       " array([ 5.023329  ,  4.2992377 ,  6.12470852]),\n",
       " array([ 5.19515501,  4.4712735 ,  6.2964741 ]),\n",
       " array([ 5.34989283,  4.62590751,  6.45124309]),\n",
       " array([ 5.48911015,  4.76517679,  6.59044528]),\n",
       " array([ 5.61442912,  4.89046997,  6.71577194]),\n",
       " array([ 5.72720459,  5.00325832,  6.82854364]),\n",
       " array([ 5.82870831,  5.10475564,  6.93004925]),\n",
       " array([ 5.92005878,  5.1961093 ,  7.02139878]),\n",
       " array([ 6.00227564,  5.27832457,  7.10361611]),\n",
       " array([ 6.07627009,  5.35231982,  7.17761033]),\n",
       " array([ 6.14286546,  5.41891479,  7.24420582]),\n",
       " array([ 6.20280111,  5.47885064,  7.30414141]),\n",
       " array([ 6.25674329,  5.53279272,  7.35808362]),\n",
       " array([ 6.3052912 ,  5.58134068,  7.40663152]),\n",
       " array([ 6.34898435,  5.6250338 ,  7.45032467]),\n",
       " array([ 6.38830817,  5.66435764,  7.48964849]),\n",
       " array([ 6.42369961,  5.69974907,  7.52503993]),\n",
       " array([ 6.45555191,  5.73160137,  7.55689223]),\n",
       " array([ 6.48421898,  5.76026844,  7.58555929]),\n",
       " array([ 6.51001934,  5.7860688 ,  7.61135965]),\n",
       " array([ 6.53323966,  5.80928912,  7.63457998]),\n",
       " array([ 6.55413795,  5.83018742,  7.65547827]),\n",
       " array([ 6.57294642,  5.84899588,  7.67428673]),\n",
       " array([ 6.58987403,  5.86592349,  7.69121435]),\n",
       " array([ 6.60510889,  5.88115835,  7.70644921]),\n",
       " array([ 6.61882026,  5.89486972,  7.72016057]),\n",
       " array([ 6.63116049,  5.90720995,  7.73250081]),\n",
       " array([ 6.6422667 ,  5.91831616,  7.74360702]),\n",
       " array([ 6.65226229,  5.92831175,  7.7536026 ]),\n",
       " array([ 6.66125832,  5.93730778,  7.76259863]),\n",
       " array([ 6.66935474,  5.94540421,  7.77069506]),\n",
       " array([ 6.67664153,  5.95269099,  7.77798184]),\n",
       " array([ 6.68319963,  5.95924909,  7.78453995]),\n",
       " array([ 6.68910193,  5.96515139,  7.79044225]),\n",
       " array([ 6.69441399,  5.97046345,  7.79575431]),\n",
       " array([ 6.69919485,  5.97524431,  7.80053517]),\n",
       " array([ 6.70349762,  5.97954709,  7.80483794]),\n",
       " array([ 6.70737012,  5.98341958,  7.80871044]),\n",
       " array([ 6.71085537,  5.98690483,  7.81219568]),\n",
       " array([ 6.71399209,  5.99004155,  7.81533241]),\n",
       " array([ 6.71681514,  5.9928646 ,  7.81815546]),\n",
       " array([ 6.71935588,  5.99540534,  7.8206962 ]),\n",
       " array([ 6.72164255,  5.99769201,  7.82298287]),\n",
       " array([ 6.72370055,  5.99975002,  7.82504087]),\n",
       " array([ 6.72555276,  6.00160222,  7.82689308]),\n",
       " array([ 6.72721974,  6.0032692 ,  7.82856006]),\n",
       " array([ 6.72872002,  6.00476949,  7.83006034]),\n",
       " array([ 6.73007028,  6.00611974,  7.8314106 ]),\n",
       " array([ 6.73128551,  6.00733497,  7.83262583]),\n",
       " array([ 6.73237922,  6.00842868,  7.83371954]),\n",
       " array([ 6.73336355,  6.00941302,  7.83470387]),\n",
       " array([ 6.73424946,  6.01029892,  7.83558977]),\n",
       " array([ 6.73504677,  6.01109623,  7.83638709]),\n",
       " array([ 6.73576435,  6.01181381,  7.83710467]),\n",
       " array([ 6.73641017,  6.01245964,  7.83775049]),\n",
       " array([ 6.73699141,  6.01304088,  7.83833173]),\n",
       " array([ 6.73751453,  6.01356399,  7.83885485]),\n",
       " array([ 6.73798534,  6.0140348 ,  7.83932565]),\n",
       " array([ 6.73840906,  6.01445852,  7.83974938]),\n",
       " array([ 6.73879041,  6.01483987,  7.84013073]),\n",
       " array([ 6.73913363,  6.01518309,  7.84047395]),\n",
       " array([ 6.73944252,  6.01549199,  7.84078284]),\n",
       " array([ 6.73972053,  6.01576999,  7.84106085]),\n",
       " array([ 6.73997074,  6.0160202 ,  7.84131105]),\n",
       " array([ 6.74019592,  6.01624538,  7.84153624]),\n",
       " array([ 6.74039859,  6.01644805,  7.8417389 ]),\n",
       " array([ 6.74058099,  6.01663045,  7.8419213 ]),\n",
       " array([ 6.74074515,  6.01679461,  7.84208546]),\n",
       " array([ 6.74089289,  6.01694235,  7.84223321]),\n",
       " array([ 6.74102586,  6.01707532,  7.84236618]),\n",
       " array([ 6.74114553,  6.01719499,  7.84248585]),\n",
       " array([ 6.74125324,  6.0173027 ,  7.84259355]),\n",
       " array([ 6.74135017,  6.01739963,  7.84269049]),\n",
       " array([ 6.74143741,  6.01748687,  7.84277773]),\n",
       " array([ 6.74151593,  6.01756539,  7.84285625]),\n",
       " array([ 6.74158659,  6.01763606,  7.84292691]),\n",
       " array([ 6.74165019,  6.01769965,  7.84299051]),\n",
       " array([ 6.74170743,  6.01775689,  7.84304775]),\n",
       " array([ 6.74175895,  6.01780841,  7.84309926]),\n",
       " array([ 6.74180531,  6.01785477,  7.84314563]),\n",
       " array([ 6.74184704,  6.0178965 ,  7.84318736]),\n",
       " array([ 6.74188459,  6.01793405,  7.84322491]),\n",
       " array([ 6.74191839,  6.01796785,  7.84325871]),\n",
       " array([ 6.74194881,  6.01799827,  7.84328913]),\n",
       " array([ 6.74197619,  6.01802565,  7.8433165 ]),\n",
       " array([ 6.74200083,  6.01805029,  7.84334114]),\n",
       " array([ 6.742023  ,  6.01807246,  7.84336332]),\n",
       " array([ 6.74204296,  6.01809242,  7.84338328]),\n",
       " array([ 6.74206092,  6.01811038,  7.84340124]),\n",
       " array([ 6.74207709,  6.01812655,  7.84341741]),\n",
       " array([ 6.74209164,  6.0181411 ,  7.84343196]),\n",
       " array([ 6.74210473,  6.01815419,  7.84344505]),\n",
       " array([ 6.74211652,  6.01816598,  7.84345683]),\n",
       " array([ 6.74212712,  6.01817659,  7.84346744]),\n",
       " array([ 6.74213667,  6.01818613,  7.84347699]),\n",
       " array([ 6.74214526,  6.01819472,  7.84348558]),\n",
       " array([ 6.74215299,  6.01820245,  7.84349331]),\n",
       " array([ 6.74215995,  6.01820941,  7.84350027]),\n",
       " array([ 6.74216621,  6.01821568,  7.84350653]),\n",
       " array([ 6.74217185,  6.01822131,  7.84351217]),\n",
       " array([ 6.74217692,  6.01822639,  7.84351724]),\n",
       " array([ 6.74218149,  6.01823095,  7.84352181]),\n",
       " array([ 6.7421856 ,  6.01823506,  7.84352592]),\n",
       " array([ 6.7421893 ,  6.01823876,  7.84352962]),\n",
       " array([ 6.74219263,  6.01824209,  7.84353294]),\n",
       " array([ 6.74219562,  6.01824508,  7.84353594]),\n",
       " array([ 6.74219832,  6.01824778,  7.84353864]),\n",
       " array([ 6.74220074,  6.01825021,  7.84354106]),\n",
       " array([ 6.74220293,  6.01825239,  7.84354325]),\n",
       " array([ 6.74220489,  6.01825436,  7.84354521]),\n",
       " array([ 6.74220666,  6.01825612,  7.84354698]),\n",
       " array([ 6.74220825,  6.01825772,  7.84354857]),\n",
       " array([ 6.74220969,  6.01825915,  7.84355   ]),\n",
       " array([ 6.74221098,  6.01826044,  7.84355129]),\n",
       " array([ 6.74221214,  6.0182616 ,  7.84355245]),\n",
       " array([ 6.74221318,  6.01826264,  7.8435535 ]),\n",
       " array([ 6.74221412,  6.01826358,  7.84355444]),\n",
       " array([ 6.74221497,  6.01826443,  7.84355529]),\n",
       " array([ 6.74221573,  6.01826519,  7.84355605]),\n",
       " array([ 6.74221641,  6.01826588,  7.84355673]),\n",
       " array([ 6.74221703,  6.01826649,  7.84355735]),\n",
       " array([ 6.74221759,  6.01826705,  7.8435579 ]),\n",
       " array([ 6.74221809,  6.01826755,  7.8435584 ]),\n",
       " array([ 6.74221853,  6.018268  ,  7.84355885]),\n",
       " array([ 6.74221894,  6.0182684 ,  7.84355926]),\n",
       " array([ 6.7422193 ,  6.01826877,  7.84355962]),\n",
       " array([ 6.74221963,  6.01826909,  7.84355995]),\n",
       " array([ 6.74221993,  6.01826939,  7.84356024]),\n",
       " array([ 6.74222019,  6.01826965,  7.84356051]),\n",
       " array([ 6.74222043,  6.01826989,  7.84356075]),\n",
       " array([ 6.74222065,  6.01827011,  7.84356096]),\n",
       " array([ 6.74222084,  6.0182703 ,  7.84356116]),\n",
       " array([ 6.74222101,  6.01827048,  7.84356133]),\n",
       " array([ 6.74222117,  6.01827063,  7.84356149]),\n",
       " array([ 6.74222131,  6.01827077,  7.84356163]),\n",
       " array([ 6.74222144,  6.0182709 ,  7.84356176]),\n",
       " array([ 6.74222155,  6.01827102,  7.84356187]),\n",
       " array([ 6.74222166,  6.01827112,  7.84356197]),\n",
       " array([ 6.74222175,  6.01827121,  7.84356207]),\n",
       " array([ 6.74222183,  6.01827129,  7.84356215]),\n",
       " array([ 6.74222191,  6.01827137,  7.84356222]),\n",
       " array([ 6.74222197,  6.01827144,  7.84356229]),\n",
       " array([ 6.74222203,  6.0182715 ,  7.84356235]),\n",
       " array([ 6.74222209,  6.01827155,  7.84356241]),\n",
       " array([ 6.74222214,  6.0182716 ,  7.84356246]),\n",
       " array([ 6.74222218,  6.01827165,  7.8435625 ]),\n",
       " array([ 6.74222222,  6.01827169,  7.84356254]),\n",
       " array([ 6.74222226,  6.01827172,  7.84356258]),\n",
       " array([ 6.74222229,  6.01827175,  7.84356261]),\n",
       " array([ 6.74222232,  6.01827178,  7.84356264]),\n",
       " array([ 6.74222235,  6.01827181,  7.84356266]),\n",
       " array([ 6.74222237,  6.01827183,  7.84356269]),\n",
       " array([ 6.74222239,  6.01827185,  7.84356271]),\n",
       " array([ 6.74222241,  6.01827187,  7.84356273]),\n",
       " array([ 6.74222243,  6.01827189,  7.84356275]),\n",
       " array([ 6.74222244,  6.0182719 ,  7.84356276]),\n",
       " array([ 6.74222246,  6.01827192,  7.84356277]),\n",
       " array([ 6.74222247,  6.01827193,  7.84356279]),\n",
       " array([ 6.74222248,  6.01827194,  7.8435628 ]),\n",
       " array([ 6.74222249,  6.01827195,  7.84356281]),\n",
       " array([ 6.7422225 ,  6.01827196,  7.84356282]),\n",
       " array([ 6.74222251,  6.01827197,  7.84356283]),\n",
       " array([ 6.74222251,  6.01827198,  7.84356283]),\n",
       " array([ 6.74222252,  6.01827198,  7.84356284]),\n",
       " array([ 6.74222253,  6.01827199,  7.84356285]),\n",
       " array([ 6.74222253,  6.018272  ,  7.84356285]),\n",
       " array([ 6.74222254,  6.018272  ,  7.84356286]),\n",
       " array([ 6.74222254,  6.018272  ,  7.84356286]),\n",
       " array([ 6.74222255,  6.01827201,  7.84356286]),\n",
       " array([ 6.74222255,  6.01827201,  7.84356287]),\n",
       " array([ 6.74222255,  6.01827202,  7.84356287]),\n",
       " array([ 6.74222256,  6.01827202,  7.84356287]),\n",
       " array([ 6.74222256,  6.01827202,  7.84356288]),\n",
       " array([ 6.74222256,  6.01827202,  7.84356288]),\n",
       " array([ 6.74222256,  6.01827203,  7.84356288]),\n",
       " array([ 6.74222256,  6.01827203,  7.84356288]),\n",
       " array([ 6.74222257,  6.01827203,  7.84356288]),\n",
       " array([ 6.74222257,  6.01827203,  7.84356289]),\n",
       " array([ 6.74222257,  6.01827203,  7.84356289]),\n",
       " array([ 6.74222257,  6.01827203,  7.84356289]),\n",
       " array([ 6.74222257,  6.01827203,  7.84356289]),\n",
       " array([ 6.74222257,  6.01827203,  7.84356289]),\n",
       " array([ 6.74222257,  6.01827204,  7.84356289]),\n",
       " array([ 6.74222257,  6.01827204,  7.84356289]),\n",
       " array([ 6.74222257,  6.01827204,  7.84356289]),\n",
       " array([ 6.74222258,  6.01827204,  7.84356289]),\n",
       " array([ 6.74222258,  6.01827204,  7.84356289]),\n",
       " array([ 6.74222258,  6.01827204,  7.84356289]),\n",
       " array([ 6.74222258,  6.01827204,  7.8435629 ]),\n",
       " array([ 6.74222258,  6.01827204,  7.8435629 ]),\n",
       " array([ 6.74222258,  6.01827204,  7.8435629 ]),\n",
       " array([ 6.74222258,  6.01827204,  7.8435629 ]),\n",
       " array([ 6.74222258,  6.01827204,  7.8435629 ]),\n",
       " array([ 6.74222258,  6.01827204,  7.8435629 ]),\n",
       " array([ 6.74222258,  6.01827204,  7.8435629 ]),\n",
       " array([ 6.74222258,  6.01827204,  7.8435629 ]),\n",
       " array([ 6.74222258,  6.01827204,  7.8435629 ]),\n",
       " array([ 6.74222258,  6.01827204,  7.8435629 ]),\n",
       " array([ 6.74222258,  6.01827204,  7.8435629 ]),\n",
       " array([ 6.74222258,  6.01827204,  7.8435629 ]),\n",
       " array([ 6.74222258,  6.01827204,  7.8435629 ]),\n",
       " array([ 6.74222258,  6.01827204,  7.8435629 ]),\n",
       " array([ 6.74222258,  6.01827204,  7.8435629 ]),\n",
       " array([ 6.74222258,  6.01827204,  7.8435629 ]),\n",
       " array([ 6.74222258,  6.01827204,  7.8435629 ]),\n",
       " array([ 6.74222258,  6.01827204,  7.8435629 ]),\n",
       " array([ 6.74222258,  6.01827204,  7.8435629 ]),\n",
       " array([ 6.74222258,  6.01827204,  7.8435629 ]),\n",
       " array([ 6.74222258,  6.01827204,  7.8435629 ]),\n",
       " array([ 6.74222258,  6.01827204,  7.8435629 ]),\n",
       " array([ 6.74222258,  6.01827204,  7.8435629 ]),\n",
       " array([ 6.74222258,  6.01827204,  7.8435629 ]),\n",
       " array([ 6.74222258,  6.01827204,  7.8435629 ]),\n",
       " array([ 6.74222258,  6.01827204,  7.8435629 ]),\n",
       " array([ 6.74222258,  6.01827204,  7.8435629 ]),\n",
       " array([ 6.74222258,  6.01827204,  7.8435629 ]),\n",
       " array([ 6.74222258,  6.01827204,  7.8435629 ]),\n",
       " array([ 6.74222258,  6.01827204,  7.8435629 ]),\n",
       " array([ 6.74222258,  6.01827204,  7.8435629 ]),\n",
       " array([ 6.74222258,  6.01827204,  7.8435629 ]),\n",
       " array([ 6.74222258,  6.01827204,  7.8435629 ]),\n",
       " array([ 6.74222258,  6.01827204,  7.8435629 ]),\n",
       " array([ 6.74222258,  6.01827204,  7.8435629 ]),\n",
       " array([ 6.74222258,  6.01827204,  7.8435629 ]),\n",
       " array([ 6.74222258,  6.01827204,  7.8435629 ]),\n",
       " array([ 6.74222258,  6.01827204,  7.8435629 ]),\n",
       " array([ 6.74222258,  6.01827204,  7.8435629 ]),\n",
       " array([ 6.74222258,  6.01827204,  7.8435629 ]),\n",
       " array([ 6.74222258,  6.01827204,  7.8435629 ]),\n",
       " array([ 6.74222258,  6.01827204,  7.8435629 ]),\n",
       " array([ 6.74222258,  6.01827204,  7.8435629 ]),\n",
       " array([ 6.74222258,  6.01827204,  7.8435629 ]),\n",
       " array([ 6.74222258,  6.01827204,  7.8435629 ]),\n",
       " array([ 6.74222258,  6.01827204,  7.8435629 ]),\n",
       " array([ 6.74222258,  6.01827204,  7.8435629 ]),\n",
       " array([ 6.74222258,  6.01827204,  7.8435629 ]),\n",
       " array([ 6.74222258,  6.01827204,  7.8435629 ]),\n",
       " array([ 6.74222258,  6.01827204,  7.8435629 ])]"
      ]
     },
     "execution_count": 90,
     "metadata": {},
     "output_type": "execute_result"
    }
   ],
   "source": [
    "hist"
   ]
  },
  {
   "cell_type": "code",
   "execution_count": 129,
   "metadata": {},
   "outputs": [
    {
     "name": "stdout",
     "output_type": "stream",
     "text": [
      "[2, 8, 14, 21, 27, 34, 40, 47, 54, 60, 67]\n"
     ]
    },
    {
     "data": {
      "image/png": "[encoded data removed]",
      "text/plain": [
       "<matplotlib.figure.Figure at 0x10f13a240>"
      ]
     },
     "metadata": {},
     "output_type": "display_data"
    }
   ],
   "source": [
    "# Let's check the convergence.\n",
    "# We'll measure the L2 distance between each consecutive pair of value functions\n",
    "dists = np.array([np.linalg.norm(v1 - v2) for (v1, v2) in zip(hist, hist[1:])])\n",
    "plt.plot(dists)\n",
    "plt.vlines([np.where(dists <= 10**(-x))[0][0] for x in range(11)], -0.1, 1.3)\n",
    "print([np.where(dists <= 10**(-x))[0][0] for x in range(11)])\n",
    "plt.show()\n",
    "\n",
    "true_value_func = np.copy(value_f)"
   ]
  },
  {
   "cell_type": "code",
   "execution_count": 128,
   "metadata": {},
   "outputs": [
    {
     "data": {
      "image/png": "[encoded data removed]",
      "text/plain": [
       "<matplotlib.figure.Figure at 0x10ec5a630>"
      ]
     },
     "metadata": {},
     "output_type": "display_data"
    }
   ],
   "source": [
    "dists2 = np.array([np.linalg.norm(v - true_value_func) for v in hist])\n",
    "f = plt.figure(figsize=(20,11))\n",
    "plt.plot(dists, c = 'r', label='Relative to previous approx')\n",
    "plt.vlines([np.where(dists <= 10**(-x))[0][0] for x in range(11)], -0.1, 3.3, colors=(1,0,0,.8), linestyles='--')\n",
    "plt.plot(dists2, c = 'b', label='Relative to true ValueFunction')\n",
    "plt.vlines([np.where(dists2 <= 10**(-x))[0][0] for x in range(11)], -0.1, 10.3, colors=(0,0,1,.5), linestyles='-')\n",
    "plt.legend(title='Error', loc='best', fontsize=22)\n",
    "plt.title('Convergence of Value Function Estimate')\n",
    "plt.show()\n"
   ]
  },
  {
   "cell_type": "code",
   "execution_count": null,
   "metadata": {
    "collapsed": true
   },
   "outputs": [],
   "source": []
  }
 ],
 "metadata": {
  "kernelspec": {
   "display_name": "Python 3",
   "language": "python",
   "name": "python3"
  },
  "language_info": {
   "codemirror_mode": {
    "name": "ipython",
    "version": 3
   },
   "file_extension": ".py",
   "mimetype": "text/x-python",
   "name": "python",
   "nbconvert_exporter": "python",
   "pygments_lexer": "ipython3",
   "version": "3.6.2"
  }
 },
 "nbformat": 4,
 "nbformat_minor": 2
}
